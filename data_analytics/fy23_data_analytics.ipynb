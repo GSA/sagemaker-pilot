{
 "cells": [
  {
   "cell_type": "code",
   "execution_count": null,
   "metadata": {},
   "outputs": [
    {
     "ename": "",
     "evalue": "",
     "output_type": "error",
     "traceback": [
      "\u001b[1;31mCannot execute code, session has been disposed. Please try restarting the Kernel."
     ]
    }
   ],
   "source": [
    "import pandas as pd\n",
    "import numpy\n",
    "import csv"
   ]
  },
  {
   "cell_type": "code",
   "execution_count": 2,
   "id": "32a008cc",
   "metadata": {},
   "outputs": [
    {
     "data": {
      "text/html": [
       "<div>\n",
       "<style scoped>\n",
       "    .dataframe tbody tr th:only-of-type {\n",
       "        vertical-align: middle;\n",
       "    }\n",
       "\n",
       "    .dataframe tbody tr th {\n",
       "        vertical-align: top;\n",
       "    }\n",
       "\n",
       "    .dataframe thead th {\n",
       "        text-align: right;\n",
       "    }\n",
       "</style>\n",
       "<table border=\"1\" class=\"dataframe\">\n",
       "  <thead>\n",
       "    <tr style=\"text-align: right;\">\n",
       "      <th></th>\n",
       "      <th>solNum</th>\n",
       "      <th>title</th>\n",
       "      <th>agency</th>\n",
       "      <th>office</th>\n",
       "      <th>createdAt</th>\n",
       "      <th>reviewRec</th>\n",
       "    </tr>\n",
       "  </thead>\n",
       "  <tbody>\n",
       "    <tr>\n",
       "      <th>0</th>\n",
       "      <td>W91249SoftwareMaint</td>\n",
       "      <td>R4--Forensic Comparison Software Maintenance</td>\n",
       "      <td>Department of Defense</td>\n",
       "      <td>DEPT OF THE ARMY</td>\n",
       "      <td>2022-10-01 10:01:29.299589</td>\n",
       "      <td>Non-compliant (Action Required)</td>\n",
       "    </tr>\n",
       "    <tr>\n",
       "      <th>1</th>\n",
       "      <td>140R1722Q0019</td>\n",
       "      <td>Cable Positioning System</td>\n",
       "      <td>Department of the Interior</td>\n",
       "      <td>BUREAU OF RECLAMATION</td>\n",
       "      <td>2022-10-01 10:01:29.376253</td>\n",
       "      <td>Non-compliant (Action Required)</td>\n",
       "    </tr>\n",
       "    <tr>\n",
       "      <th>2</th>\n",
       "      <td>19GH1022Q0011</td>\n",
       "      <td>Internet Services For U.S. Embassy Accra, Ghana</td>\n",
       "      <td>Department of State</td>\n",
       "      <td>STATE, DEPARTMENT OF</td>\n",
       "      <td>2022-10-01 10:01:29.392227</td>\n",
       "      <td>Non-compliant (Action Required)</td>\n",
       "    </tr>\n",
       "    <tr>\n",
       "      <th>3</th>\n",
       "      <td>421466</td>\n",
       "      <td>Smaract Linear Positioner And Components Or It...</td>\n",
       "      <td>Department of Energy</td>\n",
       "      <td>ENERGY, DEPARTMENT OF</td>\n",
       "      <td>2022-10-01 10:01:29.523025</td>\n",
       "      <td>Non-compliant (Action Required)</td>\n",
       "    </tr>\n",
       "    <tr>\n",
       "      <th>4</th>\n",
       "      <td>N0017823P6610</td>\n",
       "      <td>Signal Analyzer</td>\n",
       "      <td>Department of Defense</td>\n",
       "      <td>DEPT OF THE NAVY</td>\n",
       "      <td>2022-10-01 10:01:30.73475</td>\n",
       "      <td>Non-compliant (Action Required)</td>\n",
       "    </tr>\n",
       "  </tbody>\n",
       "</table>\n",
       "</div>"
      ],
      "text/plain": [
       "                solNum                                              title  \\\n",
       "0  W91249SoftwareMaint       R4--Forensic Comparison Software Maintenance   \n",
       "1        140R1722Q0019                           Cable Positioning System   \n",
       "2        19GH1022Q0011    Internet Services For U.S. Embassy Accra, Ghana   \n",
       "3               421466  Smaract Linear Positioner And Components Or It...   \n",
       "4        N0017823P6610                                    Signal Analyzer   \n",
       "\n",
       "                       agency                 office  \\\n",
       "0       Department of Defense       DEPT OF THE ARMY   \n",
       "1  Department of the Interior  BUREAU OF RECLAMATION   \n",
       "2         Department of State   STATE, DEPARTMENT OF   \n",
       "3        Department of Energy  ENERGY, DEPARTMENT OF   \n",
       "4       Department of Defense       DEPT OF THE NAVY   \n",
       "\n",
       "                    createdAt                        reviewRec  \n",
       "0  2022-10-01 10:01:29.299589  Non-compliant (Action Required)  \n",
       "1  2022-10-01 10:01:29.376253  Non-compliant (Action Required)  \n",
       "2  2022-10-01 10:01:29.392227  Non-compliant (Action Required)  \n",
       "3  2022-10-01 10:01:29.523025  Non-compliant (Action Required)  \n",
       "4   2022-10-01 10:01:30.73475  Non-compliant (Action Required)  "
      ]
     },
     "execution_count": 2,
     "metadata": {},
     "output_type": "execute_result"
    }
   ],
   "source": [
    "df = pd.read_csv ('fy23_data.csv')\n",
    "df.head(5)"
   ]
  },
  {
   "cell_type": "code",
   "execution_count": 3,
   "id": "cd3a8c40",
   "metadata": {},
   "outputs": [
    {
     "data": {
      "text/plain": [
       "254"
      ]
     },
     "execution_count": 3,
     "metadata": {},
     "output_type": "execute_result"
    }
   ],
   "source": [
    "df_count_compliant = df['reviewRec'].value_counts()['Compliant']\n",
    "df_count_compliant"
   ]
  },
  {
   "cell_type": "code",
   "execution_count": 4,
   "id": "39a3ffc1",
   "metadata": {},
   "outputs": [
    {
     "name": "stdout",
     "output_type": "stream",
     "text": [
      "agency\n",
      "ADMINISTRATIVE OFFICE OF THE US COURTS            1\n",
      "AMERICAN BATTLE MONUMENTS COMMISSION              1\n",
      "Agency for International Development              2\n",
      "COMMODITY FUTURES TRADING COMMISSION              1\n",
      "CONSUMER PRODUCT SAFETY COMMISSION                1\n",
      "CORPORATION FOR NATIONAL AND COMMUNITY SERVICE    1\n",
      "COURT SERVICES AND OFFENDER SUPERVISION AGENCY    1\n",
      "Department of Agriculture                         2\n",
      "Department of Commerce                            2\n",
      "Department of Defense                             3\n",
      "Name: reviewRec, dtype: int64\n"
     ]
    }
   ],
   "source": [
    "df_compliant_by_agency = df.groupby('agency')['reviewRec'].nunique()\n",
    "print(df_compliant_by_agency.head(10))\n"
   ]
  },
  {
   "cell_type": "code",
   "execution_count": 7,
   "id": "fe159d9c",
   "metadata": {},
   "outputs": [],
   "source": [
    "df_reviewRec = df.groupby(['agency', 'reviewRec']).size().unstack(fill_value=0)\n",
    "df_reviewRec.to_csv('agency_reviewRec.csv', encoding='utf-8')\n"
   ]
  }
 ],
 "metadata": {
  "kernelspec": {
   "display_name": "Python 3 (ipykernel)",
   "language": "python",
   "name": "python3"
  },
  "language_info": {
   "codemirror_mode": {
    "name": "ipython",
    "version": 3
   },
   "file_extension": ".py",
   "mimetype": "text/x-python",
   "name": "python",
   "nbconvert_exporter": "python",
   "pygments_lexer": "ipython3",
   "version": "3.8.13"
  }
 },
 "nbformat": 4,
 "nbformat_minor": 5
}
