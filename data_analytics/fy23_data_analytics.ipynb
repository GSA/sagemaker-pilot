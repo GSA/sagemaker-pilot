{
 "cells": [
  {
   "cell_type": "markdown",
   "id": "098f1499",
   "metadata": {},
   "source": [
    "SRT FY 23 data analytics for the response to the Senate Aging Committee September 2023 "
   ]
  },
  {
   "cell_type": "code",
   "execution_count": null,
   "metadata": {},
   "outputs": [],
   "source": [
    "import pandas as pd\n",
    "import numpy\n",
    "import csv"
   ]
  },
  {
   "cell_type": "code",
   "execution_count": null,
   "id": "32a008cc",
   "metadata": {},
   "outputs": [],
   "source": [
    "#Reading in the FY 23 data\n",
    "df = pd.read_csv ('fy23_data.csv')\n",
    "df.head(5)"
   ]
  },
  {
   "cell_type": "code",
   "execution_count": null,
   "id": "4ebf5f4b",
   "metadata": {},
   "outputs": [],
   "source": [
    "# Counting number of rows in dataset\n",
    "len(df.index)"
   ]
  },
  {
   "cell_type": "code",
   "execution_count": null,
   "id": "fcac5a23",
   "metadata": {},
   "outputs": [],
   "source": [
    "# Counting number of agencies in dataset for FY 23\n",
    "df_agency_count = df['agency'].nunique()\n",
    "print(df_agency_count)"
   ]
  },
  {
   "cell_type": "code",
   "execution_count": null,
   "id": "d3bdc719",
   "metadata": {},
   "outputs": [],
   "source": [
    "#percentage of compliant & non compliant solicitations per agency\n",
    "\n",
    "#df4 = df.groupby('agency')['reviewRec'].count()\n",
    "df8 = df.groupby('agency')['reviewRec'].value_counts(normalize=True) * 100\n",
    "df8.head(10)"
   ]
  },
  {
   "cell_type": "code",
   "execution_count": null,
   "id": "8703f897",
   "metadata": {},
   "outputs": [],
   "source": [
    "# Counting total of review results per agency\n",
    "df9 = df.groupby(['agency', 'reviewRec'])['reviewRec'].count()\n",
    "df9.head(10)\n",
    "df9.to_csv('reviewRec_total_by_agency.csv', encoding='utf-8')"
   ]
  },
  {
   "cell_type": "code",
   "execution_count": null,
   "id": "0c4da42a",
   "metadata": {},
   "outputs": [],
   "source": [
    "#plot\n",
    "\n",
    "ax = df6.plot.bar(stacked=True)"
   ]
  },
  {
   "cell_type": "code",
   "execution_count": null,
   "id": "cd3a8c40",
   "metadata": {},
   "outputs": [],
   "source": [
    "# Counting comliant solicitations\n",
    "df_count_compliant = df['reviewRec'].value_counts()['Compliant']\n",
    "df_count_compliant"
   ]
  },
  {
   "cell_type": "code",
   "execution_count": null,
   "id": "39a3ffc1",
   "metadata": {},
   "outputs": [],
   "source": [
    "# Counting compliant solicitations by agency\n",
    "df_compliant_by_agency = df.groupby('agency')['reviewRec'].nunique()\n",
    "print(df_compliant_by_agency.head(10))\n"
   ]
  },
  {
   "cell_type": "code",
   "execution_count": null,
   "id": "fe159d9c",
   "metadata": {},
   "outputs": [],
   "source": [
    "# Pivot table of review results (complaint, non compliant, cannot evaluate) by agency\n",
    "df_reviewRec = df.groupby(['agency', 'reviewRec']).size().unstack(fill_value=0)\n",
    "df_reviewRec.to_csv('agency_reviewRec.csv', encoding='utf-8')\n"
   ]
  }
 ],
 "metadata": {
  "kernelspec": {
   "display_name": "Python 3 (ipykernel)",
   "language": "python",
   "name": "python3"
  },
  "language_info": {
   "codemirror_mode": {
    "name": "ipython",
    "version": 3
   },
   "file_extension": ".py",
   "mimetype": "text/x-python",
   "name": "python",
   "nbconvert_exporter": "python",
   "pygments_lexer": "ipython3",
   "version": "3.8.13"
  }
 },
 "nbformat": 4,
 "nbformat_minor": 5
}
