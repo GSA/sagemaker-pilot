{
 "cells": [
  {
   "cell_type": "markdown",
   "metadata": {},
   "source": [
    "# Pipeline Test\n",
    "You can waste a lot of time by not checking to see if your sklearn pipeline is set up properly before deploying to AWS SageMaker. So we'll test it out here."
   ]
  },
  {
   "cell_type": "code",
   "execution_count": 1,
   "metadata": {},
   "outputs": [],
   "source": [
    "import pandas as pd\n",
    "import numpy as np\n",
    "\n",
    "train_df = pd.read_csv('srt_train.csv', \n",
    "                       header=None,\n",
    "                       names=['target', 'text'],\n",
    "                       dtype={'target': np.float64, 'text': str})  \n",
    "\n",
    "test_df = pd.read_csv('srt_test.csv', \n",
    "                       header=None,\n",
    "                       names=['target', 'text'],\n",
    "                       dtype={'target': np.float64, 'text': str}) "
   ]
  },
  {
   "cell_type": "code",
   "execution_count": 2,
   "metadata": {},
   "outputs": [],
   "source": [
    "import re\n",
    "import string\n",
    "\n",
    "from sklearn.base import BaseEstimator, TransformerMixin\n",
    "from sklearn.compose import ColumnTransformer\n",
    "from sklearn.decomposition import TruncatedSVD\n",
    "from sklearn.feature_extraction.text import TfidfVectorizer\n",
    "from sklearn.feature_selection import SelectKBest, chi2\n",
    "from sklearn.pipeline import Pipeline\n",
    "\n",
    "class TextPreprocessor(BaseEstimator, TransformerMixin):\n",
    "    \n",
    "    def __init__(self):\n",
    "        self.control_regex = re.compile(r'[\\s]|[a-z]|\\b508\\b|\\b1973\\b')\n",
    "        self.token_pattern = re.compile(r'(?u)\\b\\w\\w+\\b')\n",
    "        self.stopwords = {'ourselves', 'hers', 'between', 'yourself', 'but', 'again', \n",
    "                          'there', 'about', 'once', 'during', 'out', 'very', 'having', \n",
    "                          'with', 'they', 'own', 'an', 'be', 'some', 'for', 'do', 'its',\n",
    "                          'yours', 'such', 'into', 'of', 'most', 'itself', 'other', 'off',\n",
    "                          'is', 's', 'am', 'or', 'who', 'as', 'from', 'him', 'each', 'the',\n",
    "                          'themselves', 'until', 'below', 'are', 'we', 'these', 'your', \n",
    "                          'his', 'through', 'don', 'nor', 'me', 'were', 'her', 'more',\n",
    "                          'himself', 'this', 'down', 'should', 'our', 'their', 'while',\n",
    "                          'above', 'both', 'up', 'to', 'ours', 'had', 'she', 'all', 'no',\n",
    "                          'when', 'at', 'any', 'before', 'them', 'same', 'and', 'been',\n",
    "                          'have', 'in', 'will', 'on', 'does', 'yourselves', 'then', 'that',\n",
    "                          'because', 'what', 'over', 'why', 'so', 'can', 'did', 'not', 'now',\n",
    "                          'under', 'he', 'you', 'herself', 'has', 'just', 'where', 'too',\n",
    "                          'only', 'myself', 'which', 'those', 'i', 'after', 'few', 'whom',\n",
    "                          't', 'being', 'if', 'theirs', 'my', 'against', 'a', 'by', 'doing',\n",
    "                          'it', 'how', 'further', 'was', 'here', 'than'}\n",
    "\n",
    "\n",
    "    def fit(self, X, y = None):\n",
    "        return self \n",
    "    \n",
    "\n",
    "    def _preprocessing(self, doc):\n",
    "        # split at any white space and rejoin using a single space. Then lowercase.\n",
    "        doc_lowered = \" \".join(doc.split()).lower()\n",
    "        # map punctuation to space\n",
    "        translator = str.maketrans(string.punctuation, ' '*len(string.punctuation)) \n",
    "        doc_lowered = doc_lowered.translate(translator)\n",
    "        tokens = \"\".join(self.control_regex.findall(doc_lowered)).split()\n",
    "        processed_text = []\n",
    "        for token in tokens:\n",
    "            if token in self.stopwords:\n",
    "                continue\n",
    "            m = self.token_pattern.search(token)\n",
    "            if not m:\n",
    "                continue\n",
    "            word = m.group().strip()\n",
    "            processed_text.append(word)\n",
    "        \n",
    "        processed_text = \" \".join(processed_text)\n",
    "        \n",
    "        return processed_text\n",
    "    \n",
    "    \n",
    "    def transform(self, X, y = None):\n",
    "        X = X['text'].apply(self._preprocessing)\n",
    "        \n",
    "        return X"
   ]
  },
  {
   "cell_type": "code",
   "execution_count": 3,
   "metadata": {},
   "outputs": [],
   "source": [
    "text_transformer = Pipeline(steps=[\n",
    "        ('cleaner', TextPreprocessor()),\n",
    "        ('vectorizer', TfidfVectorizer(analyzer=str.split,\n",
    "                                       ngram_range=(1,2),\n",
    "                                       sublinear_tf=True)),\n",
    "        ('select', TruncatedSVD(n_components=100, n_iter=2))])\n",
    "\n",
    "preprocessor = ColumnTransformer(transformers=[('txt', text_transformer, ['text'])])"
   ]
  },
  {
   "cell_type": "code",
   "execution_count": 4,
   "metadata": {
    "scrolled": false
   },
   "outputs": [
    {
     "name": "stdout",
     "output_type": "stream",
     "text": [
      "Fitting preprocessor on training data...\n"
     ]
    }
   ],
   "source": [
    "print(\"Fitting preprocessor on training data and transforming\")\n",
    "X_train = preprocessor.fit_transform(train_df)"
   ]
  },
  {
   "cell_type": "code",
   "execution_count": 5,
   "metadata": {},
   "outputs": [
    {
     "name": "stdout",
     "output_type": "stream",
     "text": [
      "Fitting preprocessor on training data and transforming\n"
     ]
    }
   ],
   "source": [
    "print(\"Fitting preprocessor on training data and transforming\")\n",
    "X_test = preprocessor.fit_transform(test_df)"
   ]
  },
  {
   "cell_type": "code",
   "execution_count": null,
   "metadata": {},
   "outputs": [],
   "source": []
  }
 ],
 "metadata": {
  "kernelspec": {
   "display_name": "tokenization",
   "language": "python",
   "name": "tokenization"
  },
  "language_info": {
   "codemirror_mode": {
    "name": "ipython",
    "version": 3
   },
   "file_extension": ".py",
   "mimetype": "text/x-python",
   "name": "python",
   "nbconvert_exporter": "python",
   "pygments_lexer": "ipython3",
   "version": "3.7.3"
  }
 },
 "nbformat": 4,
 "nbformat_minor": 2
}
